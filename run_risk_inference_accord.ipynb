{
 "cells": [
  {
   "cell_type": "code",
   "execution_count": null,
   "id": "0ce20d8f",
   "metadata": {},
   "outputs": [],
   "source": [
    "import os\n",
    "import sys\n",
    "import pandas as pd\n",
    "import numpy as np\n",
    "notebook_dir = os.getcwd()\n",
    "print(notebook_dir)\n",
    "os.chdir('./code')\n",
    "from data_preprocess import read_rdata_to_df\n",
    "os.chdir(notebook_dir)\n"
   ]
  },
  {
   "cell_type": "code",
   "execution_count": null,
   "id": "7bc4a1a2",
   "metadata": {},
   "outputs": [],
   "source": [
    "feature_data_blr = pd.read_csv('data/accord_blr.csv')\n",
    "feature_data_f24 = pd.read_csv('data/accord_f24.csv')\n",
    "outcome_data = pd.read_csv('data/accord_outcomes.csv')"
   ]
  },
  {
   "cell_type": "code",
   "execution_count": null,
   "id": "dad08d2f",
   "metadata": {},
   "outputs": [],
   "source": [
    "feature_data_f24.columns"
   ]
  },
  {
   "cell_type": "code",
   "execution_count": null,
   "id": "ef03014d",
   "metadata": {},
   "outputs": [],
   "source": [
    "import joblib\n",
    "import pandas as pd\n",
    "import numpy as np\n",
    "\n",
    "\n",
    "# Model names for loading\n",
    "model_names = {\n",
    "    'logistic_regression': 'Logistic Regression',\n",
    "    'random_forest': 'Random Forest',\n",
    "    'xgboost': 'XGBoost',\n",
    "    'lightgbm': 'LightGBM',\n",
    "    'svm': 'SVM'\n",
    "}\n",
    "\n",
    "df_to_inference = {\n",
    "    'accord_blr_risks':feature_data_blr,\n",
    "    'accord_f24_risks':feature_data_f24\n",
    "}\n",
    "\n",
    "for name, feat_data in df_to_inference.items():\n",
    "\n",
    "    # Load models and get predictions\n",
    "    df_full = feat_data.copy()\n",
    "    df = df_full.drop(columns=[\"MaskID\",\"Visit\"])\n",
    "\n",
    "    # Dictionary to store all predictions\n",
    "    predictions_dict = {}\n",
    "\n",
    "    # start inference and append predictions\n",
    "    for model_name in model_names.keys():\n",
    "        for run in range(1, 51):\n",
    "            try:\n",
    "                # Load the model\n",
    "                run_dir = f'risk_models/run_{run:03d}'\n",
    "                model_path = os.path.join(run_dir, model_name, f'{model_name}.joblib')\n",
    "                model = joblib.load(model_path)\n",
    "                \n",
    "                # Get predictions\n",
    "                y_pred_proba = model.predict_proba(df)[:, 1]\n",
    "                \n",
    "                # Store predictions with model name and run number\n",
    "                col_name = f\"risk_prediction_{model_name}_run{run}\"\n",
    "                predictions_dict[col_name] = y_pred_proba\n",
    "                \n",
    "                print(f\"Successfully loaded and predicted with {model_name} from run {run}\")\n",
    "                \n",
    "            except Exception as e:\n",
    "                print(f\"Error loading {model_name} from run {run}: {str(e)}\")\n",
    "\n",
    "    # Create DataFrame with all predictions\n",
    "    risk_predictions = pd.DataFrame(predictions_dict)\n",
    "\n",
    "    # Print the shape and first few rows\n",
    "    print(\"\\nPredictions DataFrame Shape:\", risk_predictions.shape)\n",
    "    print(\"\\nFirst few rows of predictions:\")\n",
    "    print(risk_predictions.head())\n",
    "\n",
    "    # Basic statistics of predictions\n",
    "    print(\"\\nSummary statistics of predictions:\")\n",
    "    print(risk_predictions.describe())\n",
    "\n",
    "    combined_df = pd.concat([df_full, risk_predictions], axis=1)\n",
    "    # Save predictions to CSV with column headers but without row index\n",
    "    output_path = os.path.join('data', f'{name}.csv')\n",
    "    combined_df.to_csv(output_path, index=False)\n",
    "\n",
    "    print(f\"Saved predictions to {output_path}\")\n",
    "    print(f\"File shape: {risk_predictions.shape[0]} rows x {risk_predictions.shape[1]} columns\")"
   ]
  }
 ],
 "metadata": {
  "kernelspec": {
   "display_name": "discco_llm",
   "language": "python",
   "name": "python3"
  },
  "language_info": {
   "codemirror_mode": {
    "name": "ipython",
    "version": 3
   },
   "file_extension": ".py",
   "mimetype": "text/x-python",
   "name": "python",
   "nbconvert_exporter": "python",
   "pygments_lexer": "ipython3",
   "version": "3.13.5"
  }
 },
 "nbformat": 4,
 "nbformat_minor": 5
}
