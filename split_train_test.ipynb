{
 "cells": [
  {
   "cell_type": "code",
   "execution_count": null,
   "id": "60d5d246-5a75-4b5b-b8fb-370033d3545f",
   "metadata": {},
   "outputs": [],
   "source": [
    "import pandas as pd\n",
    "import numpy as np"
   ]
  },
  {
   "cell_type": "code",
   "execution_count": null,
   "id": "b861a40f-7a60-4a50-832e-88da61a9a5ec",
   "metadata": {},
   "outputs": [],
   "source": [
    "# patient data\n",
    "nhanes_data = '../data/nhanes_data_prediction.csv'\n",
    "df = pd.read_csv(nhanes_data)\n"
   ]
  },
  {
   "cell_type": "code",
   "execution_count": null,
   "id": "8375aeae-ac2c-4bcd-a847-b5451347c28c",
   "metadata": {},
   "outputs": [],
   "source": [
    "df_testing = df.sample(n=100, random_state = 42)\n",
    "df_testing.to_csv('../data/nhanes_data_prediction_test.csv', \n",
    "          index=False,           # Don't write row indices\n",
    "          header=True  \n",
    "         )\n",
    "\n",
    "df_training = df.drop(df_testing.index)\n",
    "df_training = df_training.sample(n=200, random_state=42)\n",
    "df_training.to_csv(\n",
    "    '../data/nhanes_data_prediction_train.csv',\n",
    "    index=False,           # Don't write row indices\n",
    "    header=True \n",
    ")\n"
   ]
  },
  {
   "cell_type": "code",
   "execution_count": null,
   "id": "59168be6-d2f0-4bbb-ac92-ef7197558f83",
   "metadata": {},
   "outputs": [],
   "source": [
    "tmpdf = pd.read_csv(\"../data/nhanes_data_prediction_training.csv\")\n",
    "tmpdf.head(20)"
   ]
  }
 ],
 "metadata": {
  "kernelspec": {
   "display_name": "dreams_llm",
   "language": "python",
   "name": "dreams_llm"
  },
  "language_info": {
   "codemirror_mode": {
    "name": "ipython",
    "version": 3
   },
   "file_extension": ".py",
   "mimetype": "text/x-python",
   "name": "python",
   "nbconvert_exporter": "python",
   "pygments_lexer": "ipython3",
   "version": "3.11.9"
  }
 },
 "nbformat": 4,
 "nbformat_minor": 5
}
